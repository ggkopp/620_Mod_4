{
 "cells": [
  {
   "cell_type": "markdown",
   "metadata": {},
   "source": [
    "# Web Mining and Applied NLP (44-620)\n",
    "\n",
    "## Requests, JSON, and NLP\n",
    "\n",
    "### Student Name: Garrett Kopp\n",
    "\n",
    "### GitHub Repository Link: https://github.com/ggkopp/620_Mod_4\n",
    "\n",
    "Perform the tasks described in the Markdown cells below.  When you have completed the assignment make sure your code cells have all been run (and have output beneath them) and ensure you have committed and pushed ALL of your changes to your assignment repository.\n",
    "\n",
    "Make sure you have [installed spaCy and its pipeline](https://spacy.io/usage#quickstart) and [spaCyTextBlob](https://spacy.io/universe/project/spacy-textblob)\n",
    "\n",
    "Every question that requires you to write code will have a code cell underneath it; you may either write your entire solution in that cell or write it in a python file (`.py`), then import and run the appropriate code to answer the question.\n",
    "\n",
    "This assignment requires that you write additional files (either JSON or pickle files); make sure to submit those files in your repository as well."
   ]
  },
  {
   "cell_type": "markdown",
   "metadata": {},
   "source": [
    "### Question 1"
   ]
  },
  {
   "cell_type": "markdown",
   "metadata": {},
   "source": [
    "1. The following code accesses the [lyrics.ovh](https://lyricsovh.docs.apiary.io/#reference/0/lyrics-of-a-song/search) public api, searches for the lyrics of a song, and stores it in a dictionary object.  Write the resulting json to a file (either a JSON file or a pickle file; you choose). You will read in the contents of this file for future questions so we do not need to frequently access the API."
   ]
  },
  {
   "cell_type": "code",
   "execution_count": 42,
   "metadata": {},
   "outputs": [
    {
     "name": "stdout",
     "output_type": "stream",
     "text": [
      "Searching for songs by Sublime...\n",
      "\n",
      "Song 1: \"40oz. to Freedom\"\n",
      "\n",
      "Reached user-specified song limit (1).\n",
      "Done. Found 1 songs.\n",
      "Searching for \"Boss D.J.\" by Sublime...\n",
      "Done.\n",
      "Wrote Boss D.J..json.\n",
      "Lyrics for 'Boss DJ' by Sublime:\n",
      "19 ContributorsBoss DJ Lyrics[Intro]\n",
      "There's a steel train comin' through\n",
      "I would take it if I could\n",
      "And I would not lie to you\n",
      "Because Sunday mornin' soon will come\n",
      "\n",
      "[Verse 1]\n",
      "When things will be much easier to say\n",
      "Up on the microphone like a boss DJ\n",
      "But I won't walk up upon the sea like it was dry land\n",
      "Boss DJ ain't nothin' but a man\n",
      "\n",
      "[Pre-Chorus]\n",
      "No trouble, no fuss\n",
      "I know why\n",
      "\n",
      "[Chorus]\n",
      "It's so nice, I wanna hear the same song twice\n",
      "It's so nice, I wanna hear the same song twice\n",
      "\n",
      "[Verse 2]\n",
      "Rumors are spreading all over my town\n",
      "But it's just stones and sticks\n",
      "'Cause on the microphone, is where I go to get my fix\n",
      "Just let the lovin' take a hold, 'cause it will if you let it\n",
      "I'm funky, not a junkie, but I know where to get it\n",
      "You might also like[Pre-Chorus]\n",
      "No trouble, no fuss\n",
      "I know why\n",
      "\n",
      "[Chorus]\n",
      "It's so nice, I wanna hear the same song twice\n",
      "It's so nice, I wanna hear the same song twice\n",
      "\n",
      "[Bridge]\n",
      "Oowee girl, oowee girl, oowee girl, oowee girl\n",
      "And there really ain't no time to waste\n",
      "Really ain't no time to hate\n",
      "Ain't got no time to waste, time to hate\n",
      "Really ain't no time to make the time go away\n",
      "So mister DJ, don't stop the music\n",
      "I wanna know\n",
      "Are you feelin' the same way, too?\n",
      "I wanna rock it with you girl\n",
      "You girl, ooh girl, ooh\n",
      "Mmm, mmm-mm-mmm\n",
      "Mhmm, don't stop\n",
      "\n",
      "[Chorus]\n",
      "'Cause it's so nice, I wanna hear the same song twice\n",
      "It's so nice, I wanna hear the same song twice\n",
      "[Outro]\n",
      "Nowadays, the songs on the radio all, all drive me crazy4Embed\n"
     ]
    }
   ],
   "source": [
    "import lyricsgenius\n",
    "genius = lyricsgenius.Genius('JtUijw8YGNAomnidRH7gq11zP74lZjoR3lt6LRH2D_8xhk-qcT-SYbsPa8et4zpd')\n",
    "\n",
    "artist = genius.search_artist(\"Sublime\", max_songs=1, sort=\"title\")\n",
    "song = artist.song(\"Boss D.J.\")\n",
    "artist.save_lyrics(\"Boss D.J.\")\n",
    "\n",
    "if song is not None:\n",
    "    lyrics = song.lyrics\n",
    "    print(f\"Lyrics for '{song.title}' by {song.artist}:\\n{lyrics}\")"
   ]
  },
  {
   "cell_type": "markdown",
   "metadata": {},
   "source": [
    "### Question 2"
   ]
  },
  {
   "cell_type": "markdown",
   "metadata": {},
   "source": [
    "2. Read in the contents of your file.  Print the lyrics of the song (not the entire dictionary!) and use spaCyTextBlob to perform sentiment analysis on the lyrics.  Print the polarity score of the sentiment analysis.  Given that the range of the polarity score is `[-1.0,1.0]` which corresponds to how positive or negative the text in question is, do you think the lyrics have a more positive or negative connotaion?  Answer this question in a comment in your code cell."
   ]
  },
  {
   "cell_type": "code",
   "execution_count": 43,
   "metadata": {},
   "outputs": [
    {
     "name": "stdout",
     "output_type": "stream",
     "text": [
      "Searching for songs by Sublime...\n",
      "\n",
      "Song 1: \"40oz. to Freedom\"\n",
      "\n",
      "Reached user-specified song limit (1).\n",
      "Done. Found 1 songs.\n",
      "Searching for \"Boss D.J.\" by Sublime...\n",
      "Done.\n",
      "Lyrics for 'Boss DJ' by Sublime:\n",
      "19 ContributorsBoss DJ Lyrics[Intro]\n",
      "There's a steel train comin' through\n",
      "I would take it if I could\n",
      "And I would not lie to you\n",
      "Because Sunday mornin' soon will come\n",
      "\n",
      "[Verse 1]\n",
      "When things will be much easier to say\n",
      "Up on the microphone like a boss DJ\n",
      "But I won't walk up upon the sea like it was dry land\n",
      "Boss DJ ain't nothin' but a man\n",
      "\n",
      "[Pre-Chorus]\n",
      "No trouble, no fuss\n",
      "I know why\n",
      "\n",
      "[Chorus]\n",
      "It's so nice, I wanna hear the same song twice\n",
      "It's so nice, I wanna hear the same song twice\n",
      "\n",
      "[Verse 2]\n",
      "Rumors are spreading all over my town\n",
      "But it's just stones and sticks\n",
      "'Cause on the microphone, is where I go to get my fix\n",
      "Just let the lovin' take a hold, 'cause it will if you let it\n",
      "I'm funky, not a junkie, but I know where to get it\n",
      "You might also like[Pre-Chorus]\n",
      "No trouble, no fuss\n",
      "I know why\n",
      "\n",
      "[Chorus]\n",
      "It's so nice, I wanna hear the same song twice\n",
      "It's so nice, I wanna hear the same song twice\n",
      "\n",
      "[Bridge]\n",
      "Oowee girl, oowee girl, oowee girl, oowee girl\n",
      "And there really ain't no time to waste\n",
      "Really ain't no time to hate\n",
      "Ain't got no time to waste, time to hate\n",
      "Really ain't no time to make the time go away\n",
      "So mister DJ, don't stop the music\n",
      "I wanna know\n",
      "Are you feelin' the same way, too?\n",
      "I wanna rock it with you girl\n",
      "You girl, ooh girl, ooh\n",
      "Mmm, mmm-mm-mmm\n",
      "Mhmm, don't stop\n",
      "\n",
      "[Chorus]\n",
      "'Cause it's so nice, I wanna hear the same song twice\n",
      "It's so nice, I wanna hear the same song twice\n",
      "[Outro]\n",
      "Nowadays, the songs on the radio all, all drive me crazy4Embed\n",
      "Polarity Score: 0.06805555555555554\n",
      "The lyrics have a more positive connotation.\n"
     ]
    }
   ],
   "source": [
    "import lyricsgenius\n",
    "import spacy\n",
    "from textblob import TextBlob\n",
    "from spacytextblob.spacytextblob import SpacyTextBlob\n",
    "\n",
    "nlp = spacy.load('en_core_web_sm')\n",
    "nlp.add_pipe(\"spacytextblob\")\n",
    "\n",
    "def get_sentiment_score(text):\n",
    "    doc = nlp(text)\n",
    "    return doc._.polarity\n",
    "\n",
    "genius = lyricsgenius.Genius('JtUijw8YGNAomnidRH7gq11zP74lZjoR3lt6LRH2D_8xhk-qcT-SYbsPa8et4zpd')\n",
    "\n",
    "# Search for the artist Boss D.J. and fetch the song details\n",
    "artist = genius.search_artist(\"Sublime\", max_songs=1, sort=\"title\")\n",
    "\n",
    "# Get the song object for the specific song Boss D.J.\n",
    "song = artist.song(\"Boss D.J.\")\n",
    "\n",
    "# Print the lyrics and perform sentiment analysis for the polarity score\n",
    "if song is not None:\n",
    "    lyrics = song.lyrics\n",
    "    print(f\"Lyrics for '{song.title}' by {song.artist}:\\n{lyrics}\")\n",
    "\n",
    "    polarity_score = get_sentiment_score(lyrics)\n",
    "\n",
    "# Print the polarity score of the sentiment analysis\n",
    "print(f\"Polarity Score: {polarity_score}\")\n",
    "\n",
    "# Answer the question of whether the lyrics have a more positive or negative connotation\n",
    "if polarity_score > 0:\n",
    "    print(\"The lyrics have a more positive connotation.\")\n",
    "elif polarity_score < 0:\n",
    "    print(\"The lyrics have a more negative connotation.\")\n",
    "else:\n",
    "    print(\"The lyrics have a neutral connotation.\")\n",
    "\n",
    "# with a polarity socre of 0.06805555555555554 \"Boss D.J.\" is generally positive and has positive connotation. "
   ]
  },
  {
   "cell_type": "markdown",
   "metadata": {},
   "source": [
    "### Question 3"
   ]
  },
  {
   "cell_type": "markdown",
   "metadata": {},
   "source": [
    "3. Write a function that takes an artist, song, and filename, accesses the lyrics.ovh api to get the song lyrics, and writes the results to the specified filename.  Test this function by getting the lyrics to any four songs of your choice and storing them in different files."
   ]
  },
  {
   "cell_type": "code",
   "execution_count": 44,
   "metadata": {},
   "outputs": [
    {
     "name": "stdout",
     "output_type": "stream",
     "text": [
      "Searching for songs by Ed Sheeran...\n",
      "\n",
      "Song 1: \"Shape of You\"\n",
      "\n",
      "Reached user-specified song limit (1).\n",
      "Done. Found 1 songs.\n",
      "Lyrics for 'Shape of You' by Ed Sheeran saved to 'Ed_Sheeran_Shape_of_You_lyrics.json'.\n",
      "Searching for songs by Sublime...\n",
      "\n",
      "Song 1: \"Santeria\"\n",
      "\n",
      "Reached user-specified song limit (1).\n",
      "Done. Found 1 songs.\n",
      "Searching for \"STP\" by Sublime...\n",
      "Done.\n",
      "Lyrics for 'STP' by Sublime saved to 'Sublime_STP_lyrics.json'.\n",
      "Searching for songs by Cream...\n",
      "\n",
      "Song 1: \"White Room\"\n",
      "\n",
      "Reached user-specified song limit (1).\n",
      "Done. Found 1 songs.\n",
      "Searching for \"Crossroads\" by Cream...\n",
      "Done.\n",
      "Lyrics for 'Crossroads' by Cream saved to 'Cream_Crossroads_lyrics.json'.\n",
      "Searching for songs by Eagles...\n",
      "\n",
      "Song 1: \"Hotel California\"\n",
      "\n",
      "Reached user-specified song limit (1).\n",
      "Done. Found 1 songs.\n",
      "Lyrics for 'Hotel California' by Eagles saved to 'Eagles_Hotel_California_lyrics.json'.\n"
     ]
    }
   ],
   "source": [
    "import lyricsgenius\n",
    "import json\n",
    "import os\n",
    "\n",
    "def get_song_lyrics(artist, song, filename):\n",
    "    access_token = '6wkG206P0FgF5A4OcBd5LbeG5hxNCQbkGLhKuEB_7Y2iV1jTZT1PckgANAEfPdXk'\n",
    "    genius = lyricsgenius.Genius(access_token)\n",
    "\n",
    "    try:\n",
    "        # Search for the artist and fetch details\n",
    "        artist_obj = genius.search_artist(artist, max_songs=1, get_full_info=False)\n",
    "\n",
    "        # Get the song object for the specific song\n",
    "        song_obj = artist_obj.song(song)\n",
    "\n",
    "        # Write the lyrics to the JSON file\n",
    "        with open(f\"{filename}_lyrics.json\", 'w', encoding='utf-8') as file:\n",
    "            json.dump(song_obj.lyrics, file, ensure_ascii=False)\n",
    "\n",
    "        print(f\"Lyrics for '{song}' by {artist} saved to '{filename}_lyrics.json'.\")\n",
    "    except Exception as e:\n",
    "        print(f\"Error: {e}\")\n",
    "        print(f\"Failed to retrieve lyrics for '{song}' by {artist}.\")\n",
    "\n",
    "# Test the function with different artists and songs, and save them in separate JSON files\n",
    "get_song_lyrics(\"Ed Sheeran\", \"Shape of You\", \"Ed_Sheeran_Shape_of_You\")\n",
    "get_song_lyrics(\"Sublime\", \"STP\", \"Sublime_STP\")\n",
    "get_song_lyrics(\"Cream\", \"Crossroads\", \"Cream_Crossroads\")\n",
    "get_song_lyrics(\"Eagles\", \"Hotel California\", \"Eagles_Hotel_California\")"
   ]
  },
  {
   "cell_type": "markdown",
   "metadata": {},
   "source": [
    "### Question 4"
   ]
  },
  {
   "cell_type": "markdown",
   "metadata": {},
   "source": [
    "4. Write a function that takes the name of a file that contains song lyrics, loads the file, performs sentiment analysis, and returns the polarity score.  Use this function to print the polarity scores (with the name of the song) of the three files you created in question 3.  Does the reported polarity match your understanding of the song's lyrics? Why or why not do you think that might be?  Answer the questions in either a comment in the code cell or a markdown cell under the code cell."
   ]
  },
  {
   "cell_type": "code",
   "execution_count": 45,
   "metadata": {},
   "outputs": [
    {
     "name": "stdout",
     "output_type": "stream",
     "text": [
      "Polarity Score for 'Ed_Sheeran_Shape_of_You_lyrics.json' : 0.31235177865612657\n",
      "Polarity Score for 'Sublime_STP_lyrics.json' : 0.1336529356060606\n",
      "Polarity Score for 'Cream_Crossroads_lyrics.json' : -0.14259259259259263\n",
      "Polarity Score for 'Eagles_Hotel_California_lyrics.json' : 0.24831649831649827\n"
     ]
    }
   ],
   "source": [
    "from textblob import TextBlob\n",
    "import json\n",
    "\n",
    "def get_polarity_score(filename):\n",
    "    with open(filename, 'r', encoding='utf-8') as file:\n",
    "        lyrics = json.load(file)\n",
    "\n",
    "    blob = TextBlob(lyrics)\n",
    "    polarity_score = blob.sentiment.polarity\n",
    "    return polarity_score\n",
    "\n",
    "# Print the polarity scores for the three files created in question 3\n",
    "files = [\n",
    "    \"Ed_Sheeran_Shape_of_You_lyrics.json\",\n",
    "    \"Sublime_STP_lyrics.json\",\n",
    "    \"Cream_Crossroads_lyrics.json\",\n",
    "    \"Eagles_Hotel_California_lyrics.json\"\n",
    "]\n",
    "\n",
    "for file in files:\n",
    "    polarity_score = get_polarity_score(file)\n",
    "    print(f\"Polarity Score for '{file}' : {polarity_score}\")"
   ]
  },
  {
   "cell_type": "markdown",
   "metadata": {},
   "source": [
    "### Sentiment Analysis on Question 4"
   ]
  },
  {
   "cell_type": "markdown",
   "metadata": {},
   "source": [
    "I think that all of the songs are failry neutral and that is what I expected. However I am suprised that Hotel California isn't lower. I think the reason for that is the song falsley dresses up a place \"that you can never leave\", so its up to the listener as to how that would be interpreted. As paradice or a prison. I think the sentiment analysis can't pick that up. "
   ]
  }
 ],
 "metadata": {
  "kernelspec": {
   "display_name": "Python 3",
   "language": "python",
   "name": "python3"
  },
  "language_info": {
   "codemirror_mode": {
    "name": "ipython",
    "version": 3
   },
   "file_extension": ".py",
   "mimetype": "text/x-python",
   "name": "python",
   "nbconvert_exporter": "python",
   "pygments_lexer": "ipython3",
   "version": "3.10.11"
  }
 },
 "nbformat": 4,
 "nbformat_minor": 4
}
